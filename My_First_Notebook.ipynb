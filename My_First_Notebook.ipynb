{
  "nbformat": 4,
  "nbformat_minor": 0,
  "metadata": {
    "colab": {
      "name": "My First Notebook",
      "provenance": [],
      "toc_visible": true,
      "authorship_tag": "ABX9TyM/nNA50bsRudJCEupst1Rr",
      "include_colab_link": true
    },
    "kernelspec": {
      "name": "python3",
      "display_name": "Python 3"
    },
    "language_info": {
      "name": "python"
    }
  },
  "cells": [
    {
      "cell_type": "markdown",
      "metadata": {
        "id": "view-in-github",
        "colab_type": "text"
      },
      "source": [
        "<a href=\"https://colab.research.google.com/github/RedEarSlider/My-First-Notebooks--2022-Summer/blob/main/My_First_Notebook.ipynb\" target=\"_parent\"><img src=\"https://colab.research.google.com/assets/colab-badge.svg\" alt=\"Open In Colab\"/></a>"
      ]
    },
    {
      "cell_type": "code",
      "execution_count": null,
      "metadata": {
        "id": "VrQJf5Syu2mY"
      },
      "outputs": [],
      "source": [
        ""
      ]
    },
    {
      "cell_type": "markdown",
      "source": [
        "# my heading\n",
        "\n",
        "Test\n",
        "\n",
        "## heading level 2\n",
        "Markdown Guide\n",
        "\n",
        "This is a list\n",
        "+ Item 1\n",
        "+ Item 2\n",
        "\n",
        "Numbered list\n",
        "1. Item 1\n",
        "2. Item 2\n",
        "\n",
        "This is a link [link name](www.google.com)\n",
        "\n",
        "This is a code block (I'll use in ReadMe files)"
      ],
      "metadata": {
        "id": "WjqXztgyxUJJ"
      }
    },
    {
      "cell_type": "code",
      "source": [
        "# This is some example Python code\n",
        "# These lines starting with \"#\" are \"comments\"\n",
        "# Remember \"#\" means something different in Markdown than it does in Python\n",
        "\n",
        "print(\"HELLO WORLD!\")\n",
        "\n",
        "x = 2 + 2\n",
        "print(x)"
      ],
      "metadata": {
        "colab": {
          "base_uri": "https://localhost:8080/"
        },
        "id": "t3T5i0x6xfO7",
        "outputId": "e8aef80c-d113-451f-c6fe-9e9a80c084a8"
      },
      "execution_count": 2,
      "outputs": [
        {
          "output_type": "stream",
          "name": "stdout",
          "text": [
            "HELLO WORLD!\n",
            "4\n"
          ]
        }
      ]
    },
    {
      "cell_type": "markdown",
      "source": [
        "This is some text.\n",
        " We can write any language. "
      ],
      "metadata": {
        "id": "alRYPdhzwlpj"
      }
    }
  ]
}